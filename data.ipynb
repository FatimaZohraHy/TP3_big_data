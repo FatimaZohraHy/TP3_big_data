{
 "cells": [
  {
   "cell_type": "raw",
   "id": "89f978b9-6995-4006-a027-0ff8d339925c",
   "metadata": {},
   "source": [
    "pip install pandas"
   ]
  },
  {
   "cell_type": "code",
   "execution_count": 3,
   "id": "aa363afd-e9a6-4862-b4e0-e49382a3ce9e",
   "metadata": {},
   "outputs": [],
   "source": [
    "import pandas as pd"
   ]
  },
  {
   "cell_type": "code",
   "execution_count": 5,
   "id": "45bbd07f-a73a-42f7-a833-f4383c1218cc",
   "metadata": {},
   "outputs": [],
   "source": [
    "df = pd.read_csv('3883533.csv')"
   ]
  },
  {
   "cell_type": "code",
   "execution_count": 6,
   "id": "68e1f2d4-efe0-4660-908e-745e16aacfc7",
   "metadata": {},
   "outputs": [
    {
     "name": "stdout",
     "output_type": "stream",
     "text": [
      "           STATION                    NAME        DATE  TAVG  TMAX  TMIN\n",
      "0      UKE00105860         NEWTON RIGG, UK  2023-07-01   NaN   NaN   NaN\n",
      "1      UKE00105860         NEWTON RIGG, UK  2023-08-01   NaN   NaN   NaN\n",
      "2      UKE00105860         NEWTON RIGG, UK  2023-08-02   NaN   NaN   NaN\n",
      "3      UKE00105860         NEWTON RIGG, UK  2023-08-03   NaN   NaN   NaN\n",
      "4      UKE00105860         NEWTON RIGG, UK  2023-08-04   NaN   NaN   NaN\n",
      "...            ...                     ...         ...   ...   ...   ...\n",
      "30807  UKE00156868  MORECAMBE NUMBER 2, UK  2023-12-27   NaN  51.0  39.0\n",
      "30808  UKE00156868  MORECAMBE NUMBER 2, UK  2023-12-28   NaN  48.0  42.0\n",
      "30809  UKE00156868  MORECAMBE NUMBER 2, UK  2023-12-29   NaN  50.0  45.0\n",
      "30810  UKE00156868  MORECAMBE NUMBER 2, UK  2023-12-30   NaN  46.0  40.0\n",
      "30811  UKE00156868  MORECAMBE NUMBER 2, UK  2023-12-31   NaN  50.0  41.0\n",
      "\n",
      "[30812 rows x 6 columns]\n"
     ]
    }
   ],
   "source": [
    "print(df)"
   ]
  },
  {
   "cell_type": "code",
   "execution_count": 7,
   "id": "6ec74411-39d1-44e1-8649-68566906042f",
   "metadata": {},
   "outputs": [],
   "source": [
    "df['DATE'] = pd.to_datetime(df['DATE'])"
   ]
  },
  {
   "cell_type": "code",
   "execution_count": 14,
   "id": "987109a3-50d1-462a-9903-edf6793e2f25",
   "metadata": {},
   "outputs": [
    {
     "name": "stdout",
     "output_type": "stream",
     "text": [
      "           STATION                    NAME       DATE  TAVG  TMAX  TMIN  \\\n",
      "0      UKE00105860         NEWTON RIGG, UK 2023-07-01   NaN   NaN   NaN   \n",
      "1      UKE00105860         NEWTON RIGG, UK 2023-08-01   NaN   NaN   NaN   \n",
      "2      UKE00105860         NEWTON RIGG, UK 2023-08-02   NaN   NaN   NaN   \n",
      "3      UKE00105860         NEWTON RIGG, UK 2023-08-03   NaN   NaN   NaN   \n",
      "4      UKE00105860         NEWTON RIGG, UK 2023-08-04   NaN   NaN   NaN   \n",
      "...            ...                     ...        ...   ...   ...   ...   \n",
      "30807  UKE00156868  MORECAMBE NUMBER 2, UK 2023-12-27   NaN  51.0  39.0   \n",
      "30808  UKE00156868  MORECAMBE NUMBER 2, UK 2023-12-28   NaN  48.0  42.0   \n",
      "30809  UKE00156868  MORECAMBE NUMBER 2, UK 2023-12-29   NaN  50.0  45.0   \n",
      "30810  UKE00156868  MORECAMBE NUMBER 2, UK 2023-12-30   NaN  46.0  40.0   \n",
      "30811  UKE00156868  MORECAMBE NUMBER 2, UK 2023-12-31   NaN  50.0  41.0   \n",
      "\n",
      "      YEAR_MONTH  \n",
      "0        2023-07  \n",
      "1        2023-08  \n",
      "2        2023-08  \n",
      "3        2023-08  \n",
      "4        2023-08  \n",
      "...          ...  \n",
      "30807    2023-12  \n",
      "30808    2023-12  \n",
      "30809    2023-12  \n",
      "30810    2023-12  \n",
      "30811    2023-12  \n",
      "\n",
      "[30812 rows x 7 columns]\n"
     ]
    }
   ],
   "source": [
    "print(df)"
   ]
  },
  {
   "cell_type": "code",
   "execution_count": 8,
   "id": "66880273-5e3e-4052-a7da-5b907ed76f08",
   "metadata": {},
   "outputs": [
    {
     "name": "stdout",
     "output_type": "stream",
     "text": [
      "           STATION                    NAME       DATE  TAVG  TMAX  TMIN\n",
      "0      UKE00105860         NEWTON RIGG, UK 2023-07-01   NaN   NaN   NaN\n",
      "1      UKE00105860         NEWTON RIGG, UK 2023-08-01   NaN   NaN   NaN\n",
      "2      UKE00105860         NEWTON RIGG, UK 2023-08-02   NaN   NaN   NaN\n",
      "3      UKE00105860         NEWTON RIGG, UK 2023-08-03   NaN   NaN   NaN\n",
      "4      UKE00105860         NEWTON RIGG, UK 2023-08-04   NaN   NaN   NaN\n",
      "...            ...                     ...        ...   ...   ...   ...\n",
      "30807  UKE00156868  MORECAMBE NUMBER 2, UK 2023-12-27   NaN  51.0  39.0\n",
      "30808  UKE00156868  MORECAMBE NUMBER 2, UK 2023-12-28   NaN  48.0  42.0\n",
      "30809  UKE00156868  MORECAMBE NUMBER 2, UK 2023-12-29   NaN  50.0  45.0\n",
      "30810  UKE00156868  MORECAMBE NUMBER 2, UK 2023-12-30   NaN  46.0  40.0\n",
      "30811  UKE00156868  MORECAMBE NUMBER 2, UK 2023-12-31   NaN  50.0  41.0\n",
      "\n",
      "[30812 rows x 6 columns]\n"
     ]
    }
   ],
   "source": [
    "print(df)"
   ]
  },
  {
   "cell_type": "code",
   "execution_count": 12,
   "id": "8e007485-4d50-4694-95f1-e6ac154575dd",
   "metadata": {},
   "outputs": [],
   "source": [
    "new_df = df.drop(columns=['STATION'])\n",
    "new_df = new_df.drop(columns=['TAVG'])"
   ]
  },
  {
   "cell_type": "code",
   "execution_count": 13,
   "id": "34c18390-0bb2-4243-b8d4-9e8ad9a95153",
   "metadata": {},
   "outputs": [
    {
     "name": "stdout",
     "output_type": "stream",
     "text": [
      "                         NAME       DATE  TMAX  TMIN\n",
      "0             NEWTON RIGG, UK 2023-07-01   NaN   NaN\n",
      "1             NEWTON RIGG, UK 2023-08-01   NaN   NaN\n",
      "2             NEWTON RIGG, UK 2023-08-02   NaN   NaN\n",
      "3             NEWTON RIGG, UK 2023-08-03   NaN   NaN\n",
      "4             NEWTON RIGG, UK 2023-08-04   NaN   NaN\n",
      "...                       ...        ...   ...   ...\n",
      "30807  MORECAMBE NUMBER 2, UK 2023-12-27  51.0  39.0\n",
      "30808  MORECAMBE NUMBER 2, UK 2023-12-28  48.0  42.0\n",
      "30809  MORECAMBE NUMBER 2, UK 2023-12-29  50.0  45.0\n",
      "30810  MORECAMBE NUMBER 2, UK 2023-12-30  46.0  40.0\n",
      "30811  MORECAMBE NUMBER 2, UK 2023-12-31  50.0  41.0\n",
      "\n",
      "[30812 rows x 4 columns]\n"
     ]
    }
   ],
   "source": [
    "print(new_df)"
   ]
  },
  {
   "cell_type": "code",
   "execution_count": 14,
   "id": "8a0df590-f9ba-4021-afc6-10ca23c17e7b",
   "metadata": {},
   "outputs": [],
   "source": [
    "new_df['MONTH'] = new_df['DATE'].dt.month"
   ]
  },
  {
   "cell_type": "code",
   "execution_count": 15,
   "id": "7300ad0c-e4f4-4ec6-86a2-f0ecf37c319e",
   "metadata": {},
   "outputs": [
    {
     "name": "stdout",
     "output_type": "stream",
     "text": [
      "                         NAME       DATE  TMAX  TMIN  MONTH\n",
      "0             NEWTON RIGG, UK 2023-07-01   NaN   NaN      7\n",
      "1             NEWTON RIGG, UK 2023-08-01   NaN   NaN      8\n",
      "2             NEWTON RIGG, UK 2023-08-02   NaN   NaN      8\n",
      "3             NEWTON RIGG, UK 2023-08-03   NaN   NaN      8\n",
      "4             NEWTON RIGG, UK 2023-08-04   NaN   NaN      8\n",
      "...                       ...        ...   ...   ...    ...\n",
      "30807  MORECAMBE NUMBER 2, UK 2023-12-27  51.0  39.0     12\n",
      "30808  MORECAMBE NUMBER 2, UK 2023-12-28  48.0  42.0     12\n",
      "30809  MORECAMBE NUMBER 2, UK 2023-12-29  50.0  45.0     12\n",
      "30810  MORECAMBE NUMBER 2, UK 2023-12-30  46.0  40.0     12\n",
      "30811  MORECAMBE NUMBER 2, UK 2023-12-31  50.0  41.0     12\n",
      "\n",
      "[30812 rows x 5 columns]\n"
     ]
    }
   ],
   "source": [
    "print(new_df)"
   ]
  },
  {
   "cell_type": "code",
   "execution_count": 18,
   "id": "25c289df-f669-433e-885c-473c58558377",
   "metadata": {},
   "outputs": [
    {
     "name": "stdout",
     "output_type": "stream",
     "text": [
      "Saved: month_1.csv\n",
      "Saved: month_2.csv\n",
      "Saved: month_3.csv\n",
      "Saved: month_4.csv\n",
      "Saved: month_5.csv\n",
      "Saved: month_6.csv\n",
      "Saved: month_7.csv\n",
      "Saved: month_8.csv\n",
      "Saved: month_9.csv\n",
      "Saved: month_10.csv\n",
      "Saved: month_11.csv\n",
      "Saved: month_12.csv\n"
     ]
    }
   ],
   "source": [
    "for month, group in new_df.groupby('MONTH'):\n",
    "    \n",
    "    filename = f\"month_{month}.csv\"\n",
    "    group.to_csv(filename, index=False)\n",
    "\n",
    "    print(f\"Saved: {filename}\")"
   ]
  },
  {
   "cell_type": "code",
   "execution_count": null,
   "id": "eaa4eea9-cf80-4465-a47e-a65183a14168",
   "metadata": {},
   "outputs": [],
   "source": []
  }
 ],
 "metadata": {
  "kernelspec": {
   "display_name": "Python 3 (ipykernel)",
   "language": "python",
   "name": "python3"
  },
  "language_info": {
   "codemirror_mode": {
    "name": "ipython",
    "version": 3
   },
   "file_extension": ".py",
   "mimetype": "text/x-python",
   "name": "python",
   "nbconvert_exporter": "python",
   "pygments_lexer": "ipython3",
   "version": "3.11.5"
  },
  "widgets": {
   "application/vnd.jupyter.widget-state+json": {
    "state": {},
    "version_major": 2,
    "version_minor": 0
   }
  }
 },
 "nbformat": 4,
 "nbformat_minor": 5
}
